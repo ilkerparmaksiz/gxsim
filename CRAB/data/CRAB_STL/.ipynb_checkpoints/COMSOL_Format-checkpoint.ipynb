{
 "cells": [
  {
   "cell_type": "code",
   "execution_count": 1,
   "id": "193c54cd",
   "metadata": {},
   "outputs": [],
   "source": [
    "import numpy as np\n"
   ]
  },
  {
   "cell_type": "code",
   "execution_count": 2,
   "id": "c3cf5cd3",
   "metadata": {},
   "outputs": [],
   "source": [
    "\n",
    "### This handles convertion from comsol to garfield interpertation \n",
    "class ComsolMaterials:\n",
    "    def __init__(self):\n",
    "        self.Names=np.array([])\n",
    "        self.Permitivities=np.array([])\n",
    "        self.Domains=np.array([])\n",
    "\n",
    "    def Arrange(self):\n",
    "        counter=0\n",
    "        Results={}\n",
    "        SortedResults={}\n",
    "        ### organize the domain into dictionary\n",
    "        for domain in self.Domains:\n",
    "            SDomain=domain.split(\",\")\n",
    "            for v in SDomain:\n",
    "                svalue=v.strip().split(\"-\")\n",
    "                if(len(svalue)>1):\n",
    "                    for i in range(int(svalue[0]),int(svalue[1])+1):\n",
    "                        Results[i]=counter\n",
    "                else:\n",
    "                    Results[int(v.strip())]=counter\n",
    "        \n",
    "            counter=counter+1\n",
    "        ## Sort it out\n",
    "        Keys=list(Results.keys())\n",
    "        Keys=sorted(Keys)\n",
    "        for key in Keys:\n",
    "            SortedResults[str(key)]=str(Results[key])\n",
    "            \n",
    "        return SortedResults\n",
    "    \n",
    "    def FileWrite(self,FileName):\n",
    "        results=self.Arrange()\n",
    "        with open(FileName,\"w\") as f:\n",
    "            ## Number of Materials\n",
    "            NumofMaterials=len(self.Permitivities)\n",
    "            string=str(NumofMaterials)+\"\\n\"\n",
    "            f.write(string)\n",
    "            ## Write Permitivity\n",
    "            string=\"\"\n",
    "            for i in range(0,NumofMaterials):\n",
    "                if(i<(NumofMaterials-1)):\n",
    "                    string=string+str(self.Permitivities[i]) + \" \"\n",
    "                else:\n",
    "                    string=string+str(self.Permitivities[i]) + \"\\n\"\n",
    "            f.write(string)\n",
    "            \n",
    "            ## Write the number of Domains\n",
    "            NumofDomains=len(list(results.keys()))\n",
    "            string=str(NumofDomains)+\"\\n\"\n",
    "            f.write(string)\n",
    "            \n",
    "            ## Write Domain indecies and corresponding material indecies\n",
    "            count=0\n",
    "            for key in results:\n",
    "                if(count<NumofDomains-1):\n",
    "                    f.write(f\"{key} {results[key]}\\n\")\n",
    "                else:\n",
    "                    f.write(f\"{key} {results[key]}\")\n",
    "                count=count+1\n",
    "        \n",
    "        f.close()        \n",
    "            "
   ]
  },
  {
   "cell_type": "code",
   "execution_count": 8,
   "id": "8d13fc40",
   "metadata": {},
   "outputs": [],
   "source": [
    "Materials=ComsolMaterials()\n"
   ]
  },
  {
   "cell_type": "code",
   "execution_count": 4,
   "id": "1c821155",
   "metadata": {},
   "outputs": [],
   "source": [
    "## Define the variables\n",
    "Materials.Names=[\"Stainless\",\"Peeks\",\"HDPE\",\"Xenon\"]\n",
    "Materials.Permitivities=[\"1e7\",\"3.3\",\"2.5\",\"1\"]\n",
    "### Define the Domains here\n",
    "StainlesDomain=\"1–3, 6–7, 9, 13, 31–43, 45, 50–52, 54, 57, 59–80, 82–87, 90–92, 94–101, 103, 125–126, 139–140, 143–150\"\n",
    "PeekDomain=\"8, 10–12, 14–30, 44, 46–49, 53, 55–56, 58, 88–89, 102, 104–124, 127–138, 141–142\"\n",
    "HDPEDomain=\"5, 81, 93\"\n",
    "Xenon=\"4\"\n",
    "Materials.Domains=[StainlesDomain,PeekDomain,HDPEDomain,Xenon]"
   ]
  },
  {
   "cell_type": "code",
   "execution_count": 7,
   "id": "bd352ce5",
   "metadata": {},
   "outputs": [],
   "source": [
    "## Create the file\n",
    "Materials.FileWrite(\"CRABMaterialProperties.txt\")"
   ]
  },
  {
   "cell_type": "code",
   "execution_count": null,
   "id": "8c61e2b5",
   "metadata": {},
   "outputs": [],
   "source": []
  },
  {
   "cell_type": "code",
   "execution_count": null,
   "id": "eebbda30",
   "metadata": {},
   "outputs": [],
   "source": []
  }
 ],
 "metadata": {
  "kernelspec": {
   "display_name": "Python 3 (ipykernel)",
   "language": "python",
   "name": "python3"
  },
  "language_info": {
   "codemirror_mode": {
    "name": "ipython",
    "version": 3
   },
   "file_extension": ".py",
   "mimetype": "text/x-python",
   "name": "python",
   "nbconvert_exporter": "python",
   "pygments_lexer": "ipython3",
   "version": "3.10.9"
  }
 },
 "nbformat": 4,
 "nbformat_minor": 5
}
