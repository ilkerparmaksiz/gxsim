{
 "cells": [
  {
   "cell_type": "code",
   "execution_count": 1,
   "id": "518ee0a7",
   "metadata": {},
   "outputs": [],
   "source": [
    "import os\n",
    "import numpy as np\n",
    "import sh\n",
    "\n",
    "\n",
    "    \n",
    "    "
   ]
  },
  {
   "cell_type": "code",
   "execution_count": 2,
   "id": "36b19378",
   "metadata": {},
   "outputs": [],
   "source": [
    "## Filter the stl ending files and create array\n",
    "Path=\".\"\n",
    "Files=os.listdir(Path)\n",
    "STLFiles=np.array([])\n",
    "for i in Files:\n",
    "    if(i.endswith(\".stl\")):\n",
    "        STLFiles=np.append(STLFiles,i)"
   ]
  },
  {
   "cell_type": "code",
   "execution_count": 3,
   "id": "34bbe52d",
   "metadata": {
    "scrolled": true
   },
   "outputs": [
    {
     "name": "stdout",
     "output_type": "stream",
     "text": [
      "First Line is already replaced! and it is solid Cathode_Vacuum\n",
      " \n",
      "First Line is already replaced! and it is solid Needle_9cm\n",
      " \n",
      "First Line is already replaced! and it is solid Chamber\n",
      " \n",
      "Replacing ['solid', 'ASCII'] with solid Meshes \n",
      "First Line is already replaced! and it is solid Needle_14cm\n",
      " \n",
      "First Line is already replaced! and it is solid PMT\n",
      " \n",
      "First Line is already replaced! and it is solid CathodeTube\n",
      " \n",
      "First Line is already replaced! and it is solid MgF2Window\n",
      " \n",
      "First Line is already replaced! and it is solid Gas_Lens\n",
      " \n",
      "First Line is already replaced! and it is solid AnodeTube\n",
      " \n",
      "First Line is already replaced! and it is solid Gas_Window\n",
      " \n",
      "First Line is already replaced! and it is solid Needle_4cm\n",
      " \n",
      "First Line is already replaced! and it is solid MgF2Lens\n",
      " \n",
      "First Line is already replaced! and it is solid RotatedLens\n",
      " \n",
      "First Line is already replaced! and it is solid Camera\n",
      " \n",
      "First Line is already replaced! and it is solid Peeks\n",
      " \n",
      "First Line is already replaced! and it is solid FieldRings\n",
      " \n",
      "First Line is already replaced! and it is solid Brackets\n",
      " \n",
      "First Line is already replaced! and it is solid Anode_Vacuum\n",
      " \n"
     ]
    }
   ],
   "source": [
    "## Replace firstline solid X with solid FileName\n",
    "for File in STLFiles:\n",
    "    ReplaceName=None\n",
    "    with open(File,\"r\") as f:\n",
    "        line=f.readline()\n",
    "        splitted=File.split(\".\")\n",
    "        if(splitted[0]!=line.split(\" \")[1].strip() and line.split(\" \")[0]==\"solid\"):\n",
    "            ReplaceName=\"solid \"+splitted[0]\n",
    "    f.close()\n",
    "    \n",
    "    if(ReplaceName!=None):\n",
    "        print(f\"Replacing {line.split()} with {ReplaceName} \")\n",
    "        sh.sed(\"-i\", \"1s/\"+line.strip()+\"/\" + ReplaceName + \"/\", File)\n",
    "    else:\n",
    "        print(f\"First Line is already replaced! and it is {line} \")"
   ]
  },
  {
   "cell_type": "code",
   "execution_count": null,
   "id": "5309e85d",
   "metadata": {},
   "outputs": [],
   "source": []
  },
  {
   "cell_type": "code",
   "execution_count": null,
   "id": "bf8bacc2",
   "metadata": {},
   "outputs": [],
   "source": []
  }
 ],
 "metadata": {
  "kernelspec": {
   "display_name": "Python 3 (ipykernel)",
   "language": "python",
   "name": "python3"
  },
  "language_info": {
   "codemirror_mode": {
    "name": "ipython",
    "version": 3
   },
   "file_extension": ".py",
   "mimetype": "text/x-python",
   "name": "python",
   "nbconvert_exporter": "python",
   "pygments_lexer": "ipython3",
   "version": "3.10.9"
  }
 },
 "nbformat": 4,
 "nbformat_minor": 5
}
